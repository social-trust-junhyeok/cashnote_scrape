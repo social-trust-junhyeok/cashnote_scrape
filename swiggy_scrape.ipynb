{
 "cells": [
  {
   "cell_type": "code",
   "execution_count": null,
   "id": "c5fb3a3f",
   "metadata": {},
   "outputs": [],
   "source": [
    "import os\n",
    "import time\n",
    "import selenium\n",
    "from selenium import webdriver\n",
    "from selenium.webdriver.common.by import By\n",
    "from selenium.webdriver.support.ui import WebDriverWait\n",
    "from selenium.webdriver.common.action_chains import ActionChains\n",
    "from selenium.webdriver.support import expected_conditions as EC\n",
    "from selenium.webdriver.common.keys import Keys\n",
    "from webdriver_manager.chrome import ChromeDriverManager as CM\n",
    "import pandas as pd\n",
    "import numpy as np\n",
    "import warnings\n",
    "import requests\n",
    "from bs4 import BeautifulSoup\n",
    "import random\n",
    "warnings.filterwarnings(action='ignore')"
   ]
  },
  {
   "cell_type": "code",
   "execution_count": null,
   "id": "5381e418",
   "metadata": {},
   "outputs": [],
   "source": [
    "bot = webdriver.Chrome('./chromedriver')\n",
    "url = 'https://partner.swiggy.com/'\n",
    "bot.get(url)\n",
    "bot.maximize_window()"
   ]
  },
  {
   "cell_type": "code",
   "execution_count": null,
   "id": "1da48576",
   "metadata": {},
   "outputs": [],
   "source": [
    "id_ = '9496'\n",
    "pw_ = 'account1'"
   ]
  },
  {
   "cell_type": "code",
   "execution_count": null,
   "id": "d45e4651",
   "metadata": {},
   "outputs": [],
   "source": [
    "bot.find_element_by_xpath('/html/body/div/login-react-app/div/div/div[1]/div/div/div[1]/div/div[2]/div[2]/div[3]/input').send_keys(id_)\n",
    "time.sleep(2)\n",
    "bot.find_element_by_xpath('/html/body/div/login-react-app/div/div/div[1]/div/div/div[1]/div/div[2]/div[2]/div[6]').click()\n",
    "time.sleep(2)\n",
    "bot.find_element_by_xpath('/html/body/div/login-react-app/div/div/div[1]/div/div/div[1]/div/div[2]/div[2]/div[3]/input').send_keys(pw_)\n",
    "time.sleep(2)\n",
    "bot.find_element_by_xpath('/html/body/div/login-react-app/div/div/div[1]/div/div/div[1]/div/div[2]/div[2]/div[6]').click()\n",
    "time.sleep(2)"
   ]
  }
 ],
 "metadata": {
  "kernelspec": {
   "display_name": "Python 3 (ipykernel)",
   "language": "python",
   "name": "python3"
  },
  "language_info": {
   "codemirror_mode": {
    "name": "ipython",
    "version": 3
   },
   "file_extension": ".py",
   "mimetype": "text/x-python",
   "name": "python",
   "nbconvert_exporter": "python",
   "pygments_lexer": "ipython3",
   "version": "3.9.7"
  }
 },
 "nbformat": 4,
 "nbformat_minor": 5
}
