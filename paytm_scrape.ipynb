{
 "cells": [
  {
   "cell_type": "code",
   "execution_count": null,
   "id": "9db403e1",
   "metadata": {},
   "outputs": [],
   "source": [
    "import os\n",
    "import time\n",
    "import selenium\n",
    "from selenium import webdriver\n",
    "from selenium.webdriver.common.by import By\n",
    "from selenium.webdriver.support.ui import WebDriverWait\n",
    "from selenium.webdriver.common.action_chains import ActionChains\n",
    "from selenium.webdriver.support import expected_conditions as EC\n",
    "from selenium.webdriver.common.keys import Keys\n",
    "from webdriver_manager.chrome import ChromeDriverManager as CM\n",
    "import pandas as pd\n",
    "import numpy as np\n",
    "import warnings\n",
    "import requests\n",
    "from bs4 import BeautifulSoup\n",
    "import random\n",
    "warnings.filterwarnings(action='ignore')"
   ]
  },
  {
   "cell_type": "code",
   "execution_count": null,
   "id": "9aa36052",
   "metadata": {},
   "outputs": [],
   "source": [
    "bot = webdriver.Chrome('./chromedriver')\n",
    "bot.get('https://business.paytm.com')\n",
    "bot.maximize_window()\n",
    "time.sleep(2)"
   ]
  },
  {
   "cell_type": "code",
   "execution_count": null,
   "id": "4c394d4f",
   "metadata": {},
   "outputs": [],
   "source": [
    "id_= '9154200628'\n",
    "pw_= 'rlaalsrl11'"
   ]
  },
  {
   "cell_type": "code",
   "execution_count": null,
   "id": "1753fef1",
   "metadata": {},
   "outputs": [],
   "source": [
    "#bot.find_element_by_xpath('/html/body/header/div/div/div[3]/div/div[9]').click()"
   ]
  },
  {
   "cell_type": "code",
   "execution_count": null,
   "id": "7053cd81",
   "metadata": {},
   "outputs": [],
   "source": [
    "bot.get('https://dashboard.paytm.com/login/?referrer=Business')"
   ]
  },
  {
   "cell_type": "code",
   "execution_count": null,
   "id": "9bb5786e",
   "metadata": {},
   "outputs": [],
   "source": [
    "bot.switch_to.frame(\"oauth-iframe\")"
   ]
  },
  {
   "cell_type": "code",
   "execution_count": null,
   "id": "31e1d430",
   "metadata": {},
   "outputs": [],
   "source": [
    "bot.find_element_by_name('mobile').send_keys(id_)\n",
    "time.sleep(1)\n",
    "bot.find_element_by_name('password').send_keys(pw_)\n",
    "time.sleep(1)\n",
    "bot.find_element_by_xpath('//*[@id=\"app\"]/div/div/div[1]/form/div[4]/div[1]/div/button').click()"
   ]
  }
 ],
 "metadata": {
  "kernelspec": {
   "display_name": "Python 3 (ipykernel)",
   "language": "python",
   "name": "python3"
  },
  "language_info": {
   "codemirror_mode": {
    "name": "ipython",
    "version": 3
   },
   "file_extension": ".py",
   "mimetype": "text/x-python",
   "name": "python",
   "nbconvert_exporter": "python",
   "pygments_lexer": "ipython3",
   "version": "3.9.7"
  }
 },
 "nbformat": 4,
 "nbformat_minor": 5
}
