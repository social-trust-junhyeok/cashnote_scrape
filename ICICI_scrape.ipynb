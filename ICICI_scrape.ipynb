{
 "cells": [
  {
   "cell_type": "code",
   "execution_count": null,
   "id": "a1ee9a57",
   "metadata": {},
   "outputs": [],
   "source": [
    "import os\n",
    "import time\n",
    "import selenium\n",
    "from selenium import webdriver\n",
    "from selenium.webdriver.common.by import By\n",
    "from selenium.webdriver.support.ui import WebDriverWait\n",
    "from selenium.webdriver.common.action_chains import ActionChains\n",
    "from selenium.webdriver.support import expected_conditions as EC\n",
    "from selenium.webdriver.common.keys import Keys\n",
    "from webdriver_manager.chrome import ChromeDriverManager as CM\n",
    "import pandas as pd\n",
    "import numpy as np\n",
    "import warnings\n",
    "import requests\n",
    "from bs4 import BeautifulSoup\n",
    "import random\n",
    "warnings.filterwarnings(action='ignore')"
   ]
  },
  {
   "cell_type": "code",
   "execution_count": null,
   "id": "64e8e8da",
   "metadata": {},
   "outputs": [],
   "source": [
    "bot = webdriver.Chrome('./chromedriver')\n",
    "url = 'https://www.icicibank.com/corporate/corp-index.page?ITM=nli_cms_LOGIN_revamp_corporate_topnavigation'\n",
    "bot.get(url)\n",
    "bot.maximize_window()\n",
    "time.sleep(3)\n",
    "act = ActionChains(bot)\n",
    "pead=bot.find_element_by_xpath(\"/html/body/header/div/div[1]/div/nav[2]/div/div[2]/div[1]\")\n",
    "act.move_to_element(pead).perform()\n",
    "time.sleep(0.3)\n",
    "bot.find_element_by_xpath('/html/body/header/div/div[1]/div/nav[2]/div/div[2]/div[2]/div[3]/ul/li[2]/a').click()\n",
    "time.sleep(2)"
   ]
  },
  {
   "cell_type": "code",
   "execution_count": null,
   "id": "c544f51b",
   "metadata": {},
   "outputs": [],
   "source": [
    "# customer bank로 들어가서 로그인\n",
    "id_ ='rlaalsrl11'\n",
    "pw_ = 'gkdlvjgkdldj11!!' "
   ]
  },
  {
   "cell_type": "code",
   "execution_count": null,
   "id": "6ae86292",
   "metadata": {},
   "outputs": [],
   "source": [
    "bot.find_element_by_name('AuthenticationFG.USER_PRINCIPAL').send_keys(id_)\n",
    "bot.find_element_by_name('AuthenticationFG.ACCESS_CODE').send_keys(pw_)\n",
    "bot.find_element_by_xpath('//*[@id=\"VALIDATE_CREDENTIALS1\"]').submit()\n",
    "time.sleep(3)"
   ]
  },
  {
   "cell_type": "code",
   "execution_count": null,
   "id": "e328536e",
   "metadata": {},
   "outputs": [],
   "source": [
    "bot.find_element_by_xpath('//*[@id=\"outerTab\"]/form/div[2]/div[1]/div[4]/ul/li[3]/a/div/span[3]').click()\n",
    "time.sleep(3)\n",
    "bot.find_element_by_xpath('//*[@id=\"outerTab\"]/form/div[2]/div[1]/div[4]/ul/li[3]/div/ul/li[18]/h4').click()\n",
    "time.sleep(3)\n",
    "bot.find_element_by_xpath('//*[@id=\"outerTab\"]/form/div[2]/div[1]/div[4]/ul/li[3]/div/ul/li[19]').click()\n",
    "time.sleep(3)\n",
    "bot.find_element_by_xpath('//*[@id=\"accountcolor\"]/span/h4').click()\n",
    "time.sleep(3)"
   ]
  },
  {
   "cell_type": "code",
   "execution_count": null,
   "id": "74c307b2",
   "metadata": {},
   "outputs": [],
   "source": [
    "date_list = []\n",
    "amount_list = []\n",
    "for i in range(10):\n",
    "    date = bot.find_element_by_xpath('//*[@id=\"PageConfigurationMaster_CDESTW__1:HREF_txnDateOutput[{}]\"]'.format(i)).get_attribute('innerText')\n",
    "    date_list.append(date)\n",
    "    amount = bot.find_element_by_xpath('//*[@id=\"PageConfigurationMaster_CDESTW__1:{}\"]/td[3]'.format(i)).get_attribute('innerText')\n",
    "    amount_list.append(amount)"
   ]
  },
  {
   "cell_type": "code",
   "execution_count": null,
   "id": "6e4f1386",
   "metadata": {},
   "outputs": [],
   "source": [
    "df = pd.DataFrame({'date':date_list,'amount':amount_list})\n",
    "df.to_excel('ICICI.xlsx')"
   ]
  }
 ],
 "metadata": {
  "kernelspec": {
   "display_name": "Python 3 (ipykernel)",
   "language": "python",
   "name": "python3"
  },
  "language_info": {
   "codemirror_mode": {
    "name": "ipython",
    "version": 3
   },
   "file_extension": ".py",
   "mimetype": "text/x-python",
   "name": "python",
   "nbconvert_exporter": "python",
   "pygments_lexer": "ipython3",
   "version": "3.9.7"
  }
 },
 "nbformat": 4,
 "nbformat_minor": 5
}
