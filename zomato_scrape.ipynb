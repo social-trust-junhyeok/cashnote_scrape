{
 "cells": [
  {
   "cell_type": "code",
   "execution_count": null,
   "id": "5af0f3b1",
   "metadata": {},
   "outputs": [],
   "source": [
    "import os\n",
    "import time\n",
    "import selenium\n",
    "from selenium import webdriver\n",
    "from selenium.webdriver.common.by import By\n",
    "from selenium.webdriver.support.ui import WebDriverWait\n",
    "from selenium.webdriver.common.action_chains import ActionChains\n",
    "from selenium.webdriver.support import expected_conditions as EC\n",
    "from selenium.webdriver.common.keys import Keys\n",
    "from webdriver_manager.chrome import ChromeDriverManager as CM\n",
    "import pandas as pd\n",
    "import numpy as np\n",
    "import warnings\n",
    "import requests\n",
    "from bs4 import BeautifulSoup\n",
    "import random\n",
    "warnings.filterwarnings(action='ignore')"
   ]
  },
  {
   "cell_type": "code",
   "execution_count": null,
   "id": "12e8c20b",
   "metadata": {},
   "outputs": [],
   "source": [
    "url = 'https://www.zomato.com/partners/'\n",
    "bot.get(url)\n",
    "bot.maximize_window()\n",
    "time.sleep(5)"
   ]
  },
  {
   "cell_type": "code",
   "execution_count": null,
   "id": "ae25b5a7",
   "metadata": {},
   "outputs": [],
   "source": [
    "bot.find_element_by_xpath('//*[@id=\"root\"]/div/div/div/div/div[2]/div/div[2]/div[1]/div/div/a[6]/div').click()\n",
    "time.sleep(3)\n",
    "# 새창으로 열려서 크롤링 창 변경\n",
    "bot.switch_to.window(bot.window_handles[1])\n",
    "time.sleep(0.3)\n",
    "bot.find_element_by_xpath('/html/body/div[16]/div[1]/div[2]/div/div[2]/div[4]').click()\n",
    "time.sleep(2)"
   ]
  },
  {
   "cell_type": "code",
   "execution_count": null,
   "id": "472f8862",
   "metadata": {},
   "outputs": [],
   "source": [
    "order_id_list = []\n",
    "customer_list = []\n",
    "address_list = []\n",
    "request_list = []\n",
    "GST_list = []\n",
    "Net_tax_list = []\n",
    "total_list = []\n",
    "order_list=[]\n",
    "\n",
    "for i in range(1,21):\n",
    "    order_id = bot.find_element_by_xpath('//*[@id=\"orders_table_body\"]/tr[{}]/td[1]/a'.format(i)).get_attribute('innerText')\n",
    "    \n",
    "    bot.find_element_by_xpath('//*[@id=\"orders_table_body\"]/tr[{}]/td[1]/a'.format(i)).click()\n",
    "    time.sleep(1.5)\n",
    "    soup = BeautifulSoup(bot.page_source, 'html.parser')\n",
    "    info = soup.findAll('table',['ui','very','basic','table'])\n",
    "    \n",
    "    customer = info[4].get_text().split('\\n')[5].strip()\n",
    "    address = info[4].get_text().split('\\n')[7].strip()\n",
    "    request = info[4].get_text().split('\\n')[10].strip()\n",
    "    GST=info[6].get_text().split('\\n')[4].strip()\n",
    "    Net_tax = info[6].get_text().split('\\n')[8].strip()\n",
    "    \n",
    "    item_name = soup.findAll('p',['ui','subheader'])\n",
    "    order_ = []\n",
    "\n",
    "    for j in range(len(item_name)):\n",
    "        order_.append(item_name[j].get_text())\n",
    "\n",
    "    order_id_list.append(order_id)\n",
    "    customer_list.append(customer)\n",
    "    address_list.append(address)\n",
    "    request_list.append(request)\n",
    "    GST_list.append(GST)\n",
    "    Net_tax_list.append(Net_tax)\n",
    "    order_list.append(order_)\n",
    "      \n",
    "    bot.find_element_by_xpath('//*[@id=\"modal-container\"]/i').click()\n",
    "    time.sleep(2)\n",
    "\n",
    "delivery_status = []\n",
    "total_list = []\n",
    "time_list = []\n",
    "\n",
    "for i in range(1,21):\n",
    "    delivery_status.append(bot.find_element_by_xpath('//*[@id=\"orders_table_body\"]/tr[{}]/td[3]/span'.format(i)).get_attribute('innerText'))\n",
    "    total_list.append(bot.find_element_by_xpath('//*[@id=\"orders_table_body\"]/tr[{}]/td[6]'.format(i)).get_attribute('innerText'))\n",
    "    time_list.append(bot.find_element_by_xpath('//*[@id=\"orders_table_body\"]/tr[{}]/td[2]'.format(i)).get_attribute('innerText'))"
   ]
  },
  {
   "cell_type": "code",
   "execution_count": null,
   "id": "65eba689",
   "metadata": {},
   "outputs": [],
   "source": [
    "df=pd.DataFrame({'delivery_status':delivery_status,\n",
    "'total_list':total_list,\n",
    "'time_list':time_list,\n",
    "'order_id_list':order_id_list,\n",
    "'customer_list':customer_list,\n",
    "'address_list':address_list,\n",
    "'request_list':request_list,\n",
    "'GST_list':GST_list,\n",
    "'Net_tax_list':Net_tax_list,\n",
    "'order_list':order_list})"
   ]
  },
  {
   "cell_type": "code",
   "execution_count": null,
   "id": "d9484571",
   "metadata": {},
   "outputs": [],
   "source": [
    "df.to_excel('zomato.xlsx')"
   ]
  }
 ],
 "metadata": {
  "kernelspec": {
   "display_name": "Python 3 (ipykernel)",
   "language": "python",
   "name": "python3"
  },
  "language_info": {
   "codemirror_mode": {
    "name": "ipython",
    "version": 3
   },
   "file_extension": ".py",
   "mimetype": "text/x-python",
   "name": "python",
   "nbconvert_exporter": "python",
   "pygments_lexer": "ipython3",
   "version": "3.9.7"
  }
 },
 "nbformat": 4,
 "nbformat_minor": 5
}
