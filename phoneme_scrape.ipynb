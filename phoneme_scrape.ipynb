{
 "cells": [
  {
   "cell_type": "code",
   "execution_count": null,
   "id": "c34a98a8",
   "metadata": {},
   "outputs": [],
   "source": [
    "import os\n",
    "import time\n",
    "import selenium\n",
    "from selenium import webdriver\n",
    "from selenium.webdriver.common.by import By\n",
    "from selenium.webdriver.support.ui import WebDriverWait\n",
    "from selenium.webdriver.common.action_chains import ActionChains\n",
    "from selenium.webdriver.support import expected_conditions as EC\n",
    "from selenium.webdriver.common.keys import Keys\n",
    "from webdriver_manager.chrome import ChromeDriverManager as CM\n",
    "import pandas as pd\n",
    "import numpy as np\n",
    "import warnings\n",
    "import requests\n",
    "from bs4 import BeautifulSoup\n",
    "import random\n",
    "warnings.filterwarnings(action='ignore')"
   ]
  },
  {
   "cell_type": "code",
   "execution_count": null,
   "id": "204bc2d4",
   "metadata": {},
   "outputs": [],
   "source": [
    "bot = webdriver.Chrome('./chromedriver')\n",
    "url = 'https://business.phonepe.com/'\n",
    "bot.get(url)\n",
    "time.sleep(2)\n",
    "bot.maximize_window()\n",
    "time.sleep(2)"
   ]
  },
  {
   "cell_type": "code",
   "execution_count": null,
   "id": "b1a05677",
   "metadata": {},
   "outputs": [],
   "source": [
    "# 구글 로그인하고 접속하기\n",
    "\n",
    "login_id = '9362892475'\n",
    "login_pw = 'rlaalsrl11'\n",
    "bot.find_element_by_xpath('//*[@id=\"root\"]/div/div/div/div[2]/div/div/div/div/form/div[1]/div/div/div[2]/input').send_keys(login_id)\n",
    "time.sleep(0.5)\n",
    "bot.find_element_by_xpath('//*[@id=\"root\"]/div/div/div/div[2]/div/div/div/div/form/div[2]/div/div/div[2]/input').send_keys(login_pw)\n",
    "time.sleep(0.5)\n",
    "WebDriverWait(bot, 10).until(EC.frame_to_be_available_and_switch_to_it((By.CSS_SELECTOR,\"iframe[name^='a-'][src^='https://www.google.com/recaptcha/api2/anchor?']\")))\n",
    "WebDriverWait(bot, 10).until(EC.element_to_be_clickable((By.XPATH, \"//span[@id='recaptcha-anchor']\"))).click()\n",
    "#bot.find_element_by_class_name('ckhxFm').click()"
   ]
  },
  {
   "cell_type": "code",
   "execution_count": null,
   "id": "e3018ad0",
   "metadata": {},
   "outputs": [],
   "source": [
    "# transaction 페이지\n",
    "bot.find_element_by_xpath('//*[@id=\"root\"]/div/div[1]/div[2]/a[2]/div/span').click()\n",
    "time.sleep(1)\n",
    "bot.find_element_by_xpath('//*[@id=\"root\"]/div/div[2]/div[2]/div[1]/div[1]/div/div[3]/div[1]/div/time[1]').click()\n",
    "time.sleep(0.5)\n",
    "bot.find_element_by_xpath('//*[@id=\"root\"]/div/div[2]/div[2]/div[1]/div[1]/div/div[3]/div[2]/div/div[1]/div/div[1]/button[2]').click()\n",
    "time.sleep(0.5)\n",
    "soup = BeautifulSoup(bot.page_source, 'html.parser')"
   ]
  },
  {
   "cell_type": "code",
   "execution_count": null,
   "id": "92b2e913",
   "metadata": {},
   "outputs": [],
   "source": [
    "length = len(soup.findAll('td',['sc-jKJlTe','jqUCJj']))\n",
    "\n",
    "date_list = []\n",
    "transaction_refer_list=[]\n",
    "status_list=[]\n",
    "amount_list = []\n",
    "payment_mode_list =[]\n",
    "store_list = []\n",
    "\n",
    "for i in range(1,length+1):\n",
    "    date = bot.find_element_by_xpath('//*[@id=\"root\"]/div/div[2]/div[2]/div[1]/div[3]/div/div[2]/div/div[3]/table/tbody/tr[{}]/td[2]/time'.format(i)).get_attribute('innerText')\n",
    "    transaction_refer=bot.find_element_by_xpath('//*[@id=\"root\"]/div/div[2]/div[2]/div[1]/div[3]/div/div[2]/div/div[3]/table/tbody/tr[{}]/td[3]'.format(i)).get_attribute('innerText')\n",
    "    status=bot.find_element_by_xpath('//*[@id=\"root\"]/div/div[2]/div[2]/div[1]/div[3]/div/div[2]/div/div[3]/table/tbody/tr[{}]/td[4]/p'.format(i)).get_attribute('innerText')\n",
    "    amount = bot.find_element_by_xpath('//*[@id=\"root\"]/div/div[2]/div[2]/div[1]/div[3]/div/div[2]/div/div[3]/table/tbody/tr[{}]/td[5]'.format(i)).get_attribute('innerText')\n",
    "    payment_mode =bot.find_element_by_xpath('//*[@id=\"root\"]/div/div[2]/div[2]/div[1]/div[3]/div/div[2]/div/div[3]/table/tbody/tr[{}]/td[6]'.format(i)).get_attribute('innerText')\n",
    "    store = bot.find_element_by_xpath('//*[@id=\"root\"]/div/div[2]/div[2]/div[1]/div[3]/div/div[2]/div/div[3]/table/tbody/tr[{}]/td[7]'.format(i)).get_attribute('innerText')\n",
    "    \n",
    "    date_list.append(date)\n",
    "    transaction_refer_list.append(transaction_refer)\n",
    "    status_list.append(status)\n",
    "    amount_list.append(amount)\n",
    "    payment_mode_list.append(payment_mode)\n",
    "    store_list.append(store)"
   ]
  },
  {
   "cell_type": "code",
   "execution_count": null,
   "id": "26e9192e",
   "metadata": {},
   "outputs": [],
   "source": [
    "df = pd.DataFrame({'date_list':date_list,\n",
    "'transaction_refer_list':transaction_refer_list,\n",
    "'status_list':status_list,\n",
    "'amount_list':amount_list,\n",
    "'payment_mode_list':payment_mode_list,\n",
    "'store_list':store_list})"
   ]
  },
  {
   "cell_type": "code",
   "execution_count": null,
   "id": "e1028b98",
   "metadata": {},
   "outputs": [],
   "source": [
    "df.to_excel('phonepe.xlsx')"
   ]
  }
 ],
 "metadata": {
  "kernelspec": {
   "display_name": "Python 3 (ipykernel)",
   "language": "python",
   "name": "python3"
  },
  "language_info": {
   "codemirror_mode": {
    "name": "ipython",
    "version": 3
   },
   "file_extension": ".py",
   "mimetype": "text/x-python",
   "name": "python",
   "nbconvert_exporter": "python",
   "pygments_lexer": "ipython3",
   "version": "3.9.7"
  }
 },
 "nbformat": 4,
 "nbformat_minor": 5
}
